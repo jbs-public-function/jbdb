{
 "cells": [
  {
   "cell_type": "code",
   "execution_count": 1,
   "metadata": {},
   "outputs": [],
   "source": [
    "from sqlalchemy import Table, Column, Integer, String, MetaData, Date, Boolean, UniqueConstraint\n",
    "from sqlalchemy.exc import IntegrityError\n",
    "import sqlalchemy\n",
    "import datetime \n",
    "from db.postgres.postgres_db import PostgresDB"
   ]
  },
  {
   "cell_type": "code",
   "execution_count": 2,
   "metadata": {},
   "outputs": [
    {
     "output_type": "stream",
     "name": "stdout",
     "text": "['id', 'name']\n(1, 'Oranges')\n(2, 'Bananas')\n(3, 'Apples')\n(4, 'Pears')\n"
    }
   ],
   "source": [
    "# on a table I made in the 'testing' schema\n",
    "engine = PostgresDB().engine\n",
    "with PostgresDB().engine.connect() as engine:\n",
    "    row = engine.execute('SELECT * FROM testing.test_table')\n",
    "    print(row.keys())\n",
    "    for r in row:\n",
    "        print(r)"
   ]
  },
  {
   "cell_type": "code",
   "execution_count": 3,
   "metadata": {},
   "outputs": [],
   "source": [
    "# creating a table\n",
    "meta = MetaData(schema='testing')\n",
    "table = Table(\n",
    "    'generate_from_sqlalchemy', meta,\n",
    "    Column('id', Integer, primary_key=True),\n",
    "    Column('name', String, nullable=False),\n",
    "    Column('created', Date, unique=True, nullable=False),\n",
    "    Column('is_active', Boolean, nullable=False),\n",
    "    UniqueConstraint('name', name='unameix_1')\n",
    "    \n",
    "    )\n",
    "with PostgresDB().engine.connect() as engine:\n",
    "    meta.create_all(PostgresDB().engine)"
   ]
  },
  {
   "cell_type": "code",
   "execution_count": 4,
   "metadata": {},
   "outputs": [
    {
     "output_type": "stream",
     "name": "stdout",
     "text": "(psycopg2.errors.UniqueViolation) duplicate key value violates unique constraint \"unameix_1\"\nDETAIL:  Key (name)=(apples) already exists.\n\n[SQL: INSERT INTO testing.generate_from_sqlalchemy (name, created, is_active) VALUES (%(name_m0)s, %(created_m0)s, %(is_active_m0)s), (%(name_m1)s, %(created_m1)s, %(is_active_m1)s), (%(name_m2)s, %(created_m2)s, %(is_active_m2)s)]\n[parameters: {'name_m0': 'apples', 'created_m0': datetime.datetime(2020, 7, 8, 0, 55, 7, 156717), 'is_active_m0': True, 'name_m1': 'bananas', 'created_m1': datetime.datetime(2020, 7, 18, 0, 55, 7, 156726), 'is_active_m1': False, 'name_m2': 'pears', 'created_m2': datetime.datetime(2020, 7, 16, 0, 55, 7, 156727), 'is_active_m2': True}]\n(Background on this error at: http://sqlalche.me/e/13/gkpj)\n"
    }
   ],
   "source": [
    "# throws a unique constraint exception\n",
    "try:\n",
    "    with PostgresDB().engine.connect() as engine:\n",
    "        engine.execute(table.insert().values([\n",
    "            {'name':'apples', 'created':datetime.datetime.now()-datetime.timedelta(5), 'is_active':True},\n",
    "            {'name':'bananas', 'created':datetime.datetime.now()+datetime.timedelta(5), 'is_active':False},\n",
    "            {'name':'pears', 'created':datetime.datetime.now()+datetime.timedelta(3), 'is_active':True}\n",
    "            ]))\n",
    "except IntegrityError as exc:\n",
    "    print(exc)"
   ]
  },
  {
   "cell_type": "code",
   "execution_count": 5,
   "metadata": {},
   "outputs": [
    {
     "output_type": "stream",
     "name": "stdout",
     "text": "['id', 'name', 'created', 'is_active']\n(1, 'oranges', datetime.date(2020, 7, 13), True)\n(4, 'apples', datetime.date(2020, 7, 8), True)\n(5, 'bananas', datetime.date(2020, 7, 18), False)\n(6, 'pears', datetime.date(2020, 7, 16), True)\n"
    }
   ],
   "source": [
    "engine = PostgresDB().engine\n",
    "with PostgresDB().engine.connect() as engine:\n",
    "    row = engine.execute('SELECT * FROM testing.generate_from_sqlalchemy')\n",
    "    print(row.keys())\n",
    "    for r in row:\n",
    "        print(r)"
   ]
  },
  {
   "cell_type": "code",
   "execution_count": null,
   "metadata": {},
   "outputs": [],
   "source": []
  }
 ],
 "metadata": {
  "language_info": {
   "codemirror_mode": {
    "name": "ipython",
    "version": 3
   },
   "file_extension": ".py",
   "mimetype": "text/x-python",
   "name": "python",
   "nbconvert_exporter": "python",
   "pygments_lexer": "ipython3",
   "version": "3.8.3-final"
  },
  "orig_nbformat": 2,
  "kernelspec": {
   "name": "python3",
   "display_name": "gamblr"
  }
 },
 "nbformat": 4,
 "nbformat_minor": 2
}